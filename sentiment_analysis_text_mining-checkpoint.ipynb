{
 "cells": [
  {
   "cell_type": "code",
   "execution_count": 26,
   "id": "969fbdcd",
   "metadata": {
    "scrolled": true
   },
   "outputs": [],
   "source": [
    "import pandas as pd\n",
    "import numpy as np\n",
    "import nltk\n",
    "from nltk.corpus import stopwords\n",
    "from nltk.stem import WordNetLemmatizer\n",
    "from nltk.tokenize import word_tokenize"
   ]
  },
  {
   "cell_type": "code",
   "execution_count": 2,
   "id": "665761aa",
   "metadata": {},
   "outputs": [],
   "source": [
    "data=pd.read_csv(\"magaza_yorumlari_yeni.csv\", encoding=\"utf-16\")"
   ]
  },
  {
   "cell_type": "code",
   "execution_count": 3,
   "id": "14fc6674",
   "metadata": {},
   "outputs": [
    {
     "data": {
      "text/html": [
       "<div>\n",
       "<style scoped>\n",
       "    .dataframe tbody tr th:only-of-type {\n",
       "        vertical-align: middle;\n",
       "    }\n",
       "\n",
       "    .dataframe tbody tr th {\n",
       "        vertical-align: top;\n",
       "    }\n",
       "\n",
       "    .dataframe thead th {\n",
       "        text-align: right;\n",
       "    }\n",
       "</style>\n",
       "<table border=\"1\" class=\"dataframe\">\n",
       "  <thead>\n",
       "    <tr style=\"text-align: right;\">\n",
       "      <th></th>\n",
       "      <th>Görüş</th>\n",
       "      <th>Durum</th>\n",
       "    </tr>\n",
       "  </thead>\n",
       "  <tbody>\n",
       "    <tr>\n",
       "      <th>0</th>\n",
       "      <td>Ürün gayet güzel boyutları  dört kişilik aile ...</td>\n",
       "      <td>Olumlu</td>\n",
       "    </tr>\n",
       "    <tr>\n",
       "      <th>1</th>\n",
       "      <td>Ürünü kullandım gayet memnunum</td>\n",
       "      <td>Olumlu</td>\n",
       "    </tr>\n",
       "    <tr>\n",
       "      <th>2</th>\n",
       "      <td>Hızlı kargo</td>\n",
       "      <td>Olumlu</td>\n",
       "    </tr>\n",
       "    <tr>\n",
       "      <th>3</th>\n",
       "      <td>8 yıl önce lg 42 lm serisi almıştım ve tv den ...</td>\n",
       "      <td>Olumsuz</td>\n",
       "    </tr>\n",
       "    <tr>\n",
       "      <th>4</th>\n",
       "      <td>ürün fena değil ancak gövdenin plastik olması ...</td>\n",
       "      <td>Olumlu</td>\n",
       "    </tr>\n",
       "    <tr>\n",
       "      <th>5</th>\n",
       "      <td>çok kötü hiç bir işe yaramıyor</td>\n",
       "      <td>Olumsuz</td>\n",
       "    </tr>\n",
       "    <tr>\n",
       "      <th>6</th>\n",
       "      <td>Çok geç ısıtıyor  ekmeği kızartmıyor yani düşü...</td>\n",
       "      <td>Olumsuz</td>\n",
       "    </tr>\n",
       "    <tr>\n",
       "      <th>7</th>\n",
       "      <td>good</td>\n",
       "      <td>Olumlu</td>\n",
       "    </tr>\n",
       "    <tr>\n",
       "      <th>8</th>\n",
       "      <td>gayet güzel sadece kare tepsi kenarlara sürter...</td>\n",
       "      <td>Olumlu</td>\n",
       "    </tr>\n",
       "    <tr>\n",
       "      <th>9</th>\n",
       "      <td>Fiyatına göre iyi gibi ama ince halıları kaldı...</td>\n",
       "      <td>Olumsuz</td>\n",
       "    </tr>\n",
       "  </tbody>\n",
       "</table>\n",
       "</div>"
      ],
      "text/plain": [
       "                                               Görüş    Durum\n",
       "0  Ürün gayet güzel boyutları  dört kişilik aile ...   Olumlu\n",
       "1                     Ürünü kullandım gayet memnunum   Olumlu\n",
       "2                                        Hızlı kargo   Olumlu\n",
       "3  8 yıl önce lg 42 lm serisi almıştım ve tv den ...  Olumsuz\n",
       "4  ürün fena değil ancak gövdenin plastik olması ...   Olumlu\n",
       "5                     çok kötü hiç bir işe yaramıyor  Olumsuz\n",
       "6  Çok geç ısıtıyor  ekmeği kızartmıyor yani düşü...  Olumsuz\n",
       "7                                               good   Olumlu\n",
       "8  gayet güzel sadece kare tepsi kenarlara sürter...   Olumlu\n",
       "9  Fiyatına göre iyi gibi ama ince halıları kaldı...  Olumsuz"
      ]
     },
     "execution_count": 3,
     "metadata": {},
     "output_type": "execute_result"
    }
   ],
   "source": [
    "data.head(10)"
   ]
  },
  {
   "cell_type": "code",
   "execution_count": 4,
   "id": "58b73395",
   "metadata": {},
   "outputs": [
    {
     "name": "stdout",
     "output_type": "stream",
     "text": [
      "<class 'pandas.core.frame.DataFrame'>\n",
      "RangeIndex: 8491 entries, 0 to 8490\n",
      "Data columns (total 2 columns):\n",
      " #   Column  Non-Null Count  Dtype \n",
      "---  ------  --------------  ----- \n",
      " 0   Görüş   8489 non-null   object\n",
      " 1   Durum   8491 non-null   object\n",
      "dtypes: object(2)\n",
      "memory usage: 132.8+ KB\n"
     ]
    }
   ],
   "source": [
    "data.info()"
   ]
  },
  {
   "cell_type": "code",
   "execution_count": 5,
   "id": "8e2b4ec2",
   "metadata": {},
   "outputs": [
    {
     "data": {
      "text/plain": [
       "True"
      ]
     },
     "execution_count": 5,
     "metadata": {},
     "output_type": "execute_result"
    }
   ],
   "source": [
    "data.isnull().values.any()"
   ]
  },
  {
   "cell_type": "code",
   "execution_count": 6,
   "id": "36582d29",
   "metadata": {},
   "outputs": [
    {
     "data": {
      "text/plain": [
       "Görüş    2\n",
       "Durum    0\n",
       "dtype: int64"
      ]
     },
     "execution_count": 6,
     "metadata": {},
     "output_type": "execute_result"
    }
   ],
   "source": [
    "data.isnull().sum()"
   ]
  },
  {
   "cell_type": "code",
   "execution_count": 7,
   "id": "688475c6",
   "metadata": {},
   "outputs": [
    {
     "data": {
      "text/html": [
       "<div>\n",
       "<style scoped>\n",
       "    .dataframe tbody tr th:only-of-type {\n",
       "        vertical-align: middle;\n",
       "    }\n",
       "\n",
       "    .dataframe tbody tr th {\n",
       "        vertical-align: top;\n",
       "    }\n",
       "\n",
       "    .dataframe thead th {\n",
       "        text-align: right;\n",
       "    }\n",
       "</style>\n",
       "<table border=\"1\" class=\"dataframe\">\n",
       "  <thead>\n",
       "    <tr style=\"text-align: right;\">\n",
       "      <th></th>\n",
       "      <th>Görüş</th>\n",
       "      <th>Durum</th>\n",
       "    </tr>\n",
       "  </thead>\n",
       "  <tbody>\n",
       "    <tr>\n",
       "      <th>7913</th>\n",
       "      <td>NaN</td>\n",
       "      <td>Olumsuz</td>\n",
       "    </tr>\n",
       "    <tr>\n",
       "      <th>8122</th>\n",
       "      <td>NaN</td>\n",
       "      <td>Olumlu</td>\n",
       "    </tr>\n",
       "  </tbody>\n",
       "</table>\n",
       "</div>"
      ],
      "text/plain": [
       "     Görüş    Durum\n",
       "7913   NaN  Olumsuz\n",
       "8122   NaN   Olumlu"
      ]
     },
     "execution_count": 7,
     "metadata": {},
     "output_type": "execute_result"
    }
   ],
   "source": [
    "data[data['Görüş'].isna()]"
   ]
  },
  {
   "cell_type": "code",
   "execution_count": 8,
   "id": "9c4e4ea4",
   "metadata": {},
   "outputs": [],
   "source": [
    "data=data.dropna()"
   ]
  },
  {
   "cell_type": "code",
   "execution_count": 9,
   "id": "ec521ee8",
   "metadata": {},
   "outputs": [
    {
     "data": {
      "text/plain": [
       "(8489, 2)"
      ]
     },
     "execution_count": 9,
     "metadata": {},
     "output_type": "execute_result"
    }
   ],
   "source": [
    "data.shape"
   ]
  },
  {
   "cell_type": "code",
   "execution_count": 10,
   "id": "4659f209",
   "metadata": {},
   "outputs": [
    {
     "data": {
      "text/plain": [
       "Index(['Görüş', 'Durum'], dtype='object')"
      ]
     },
     "execution_count": 10,
     "metadata": {},
     "output_type": "execute_result"
    }
   ],
   "source": [
    "data.columns"
   ]
  },
  {
   "cell_type": "code",
   "execution_count": 11,
   "id": "fcc173c7",
   "metadata": {},
   "outputs": [
    {
     "data": {
      "text/plain": [
       "Olumlu     4252\n",
       "Olumsuz    4237\n",
       "Name: Durum, dtype: int64"
      ]
     },
     "execution_count": 11,
     "metadata": {},
     "output_type": "execute_result"
    }
   ],
   "source": [
    "data[\"Durum\"].value_counts()"
   ]
  },
  {
   "cell_type": "code",
   "execution_count": 12,
   "id": "5a1d67c8",
   "metadata": {},
   "outputs": [
    {
     "data": {
      "text/plain": [
       "array(['Olumlu', 'Olumsuz'], dtype=object)"
      ]
     },
     "execution_count": 12,
     "metadata": {},
     "output_type": "execute_result"
    }
   ],
   "source": [
    "data[\"Durum\"].unique()"
   ]
  },
  {
   "cell_type": "code",
   "execution_count": 13,
   "id": "f2e21f6e",
   "metadata": {},
   "outputs": [],
   "source": [
    "data = data.rename({'Görüş': 'Gorus'}, axis=1)"
   ]
  },
  {
   "cell_type": "code",
   "execution_count": 14,
   "id": "a518473e",
   "metadata": {},
   "outputs": [],
   "source": [
    "#data = data[data['Durum'] != 'Tarafsız']"
   ]
  },
  {
   "cell_type": "code",
   "execution_count": 15,
   "id": "ebdb8cc6",
   "metadata": {},
   "outputs": [],
   "source": [
    "data['Durum'] = data['Durum'].map({'Olumlu': 1, 'Olumsuz': 0})\n"
   ]
  },
  {
   "cell_type": "code",
   "execution_count": 27,
   "id": "fe21f335",
   "metadata": {},
   "outputs": [],
   "source": [
    "trks_wrd= open(\"stop_words_turkish.txt\", \"r\",encoding=\"utf-8\")\n",
    "turkish_sws_data = trks_wrd.read()\n",
    "trks_wrd.close()"
   ]
  },
  {
   "cell_type": "code",
   "execution_count": 28,
   "id": "a045d195",
   "metadata": {},
   "outputs": [],
   "source": [
    "turkish_sws = turkish_sws_data.split(\"\\n\")\n",
    "#print(turkish_sws)"
   ]
  },
  {
   "cell_type": "code",
   "execution_count": 30,
   "id": "8eb79f34",
   "metadata": {
    "scrolled": true
   },
   "outputs": [],
   "source": [
    "from jpype import JClass, JString, getDefaultJVMPath, shutdownJVM, startJVM\n",
    "from zemberek.morphology import TurkishMorphology\n",
    "\n",
    "ZEMBEREK_PATH = r'C:\\Users\\furka\\TextMiningProject/zemberek-full.jar'\n",
    "#startJVM(getDefaultJVMPath(), \"-ea\", \"-Djava.class.path=%s\" % ZEMBEREK_PATH)\n",
    "zemberek=JClass(\"zemberek.morphology.TurkishMorphology\").createWithDefaults()\n",
    "\n",
    "TurkishMorphology = JClass('zemberek.morphology.TurkishMorphology')\n",
    "TurkishSpellChecker = JClass('zemberek.normalization.TurkishSpellChecker')\n",
    "TurkishTokenizer = JClass('zemberek.tokenization.TurkishTokenizer')\n",
    "\n",
    "morphology = TurkishMorphology.createWithDefaults()\n",
    "spell_checker = TurkishSpellChecker(morphology)\n",
    "tokenizer = TurkishTokenizer.DEFAULT"
   ]
  },
  {
   "cell_type": "code",
   "execution_count": 31,
   "id": "a42e849c",
   "metadata": {},
   "outputs": [],
   "source": [
    "def pre_process(dataSet,column):\n",
    "    column_name=\"\"\n",
    "    column_name=column\n",
    "    dataSet[column_name]=dataSet[column_name].str.replace('[^\\w\\s]','')\n",
    "    dataSet[column_name]=dataSet[column_name].str.replace('\\d','')\n",
    "    dataSet[column_name]=dataSet[column_name].apply(lambda x: ' '.join(x.lower() for x in x.split()))\n",
    "    dataSet[column_name]=dataSet[column_name].apply(lambda x: ' '.join(x for x in x.split() if x not in turkish_sws))\n",
    "    return dataSet"
   ]
  },
  {
   "cell_type": "code",
   "execution_count": 32,
   "id": "00d164b0",
   "metadata": {},
   "outputs": [],
   "source": [
    "def spell_check_dataframe(text):\n",
    "    corrected_text=\"\"\n",
    "        \n",
    "    tokens = tokenizer.tokenizeToStrings(JString(text))\n",
    "\n",
    "    corrected_tokens = []\n",
    "    for token in tokens:\n",
    "        if spell_checker.check(JString(token)):\n",
    "            corrected_tokens.append(token)\n",
    "        else:\n",
    "            if len(spell_checker.suggestForWord(JString(token))) == 0:\n",
    "                corrected_tokens.append(token)\n",
    "            else:\n",
    "                corrected_tokens.append(spell_checker.suggestForWord(JString(token))[0])\n",
    "\n",
    "    py_list = [str(item) for item in corrected_tokens] \n",
    "    corrected_text = \" \".join(py_list)\n",
    "    #corrected_texts.append(corrected_text)\n",
    "    \n",
    "    return corrected_text"
   ]
  },
  {
   "cell_type": "code",
   "execution_count": 33,
   "id": "031469b4",
   "metadata": {},
   "outputs": [],
   "source": [
    "def lemmatize_sentence(sentence):\n",
    "    sayac=0\n",
    "    sentence = sentence.strip()\n",
    "    newSentence=sentence.split(\" \")\n",
    "    #lemmas_str=\"\"\n",
    "    if len(sentence) == 0:\n",
    "        return \"\"\n",
    "    else:\n",
    "        zemberek_sentence = JString(sentence)\n",
    "        sentences = zemberek.analyzeAndDisambiguate(zemberek_sentence).bestAnalysis()\n",
    "        lemmatized_words = []\n",
    "        for kelime in sentences:\n",
    "            lemmas = kelime.getLemmas()\n",
    "            lemma_str = lemmas[0]\n",
    "            if lemma_str==\"UNK\":\n",
    "                lemmatized_words.append(newSentence[sayac])\n",
    "            else:\n",
    "                lemmatized_words.append(str(lemma_str))\n",
    "            sayac=sayac+1\n",
    "\n",
    "    return \" \".join(lemmatized_words)"
   ]
  },
  {
   "cell_type": "code",
   "execution_count": 34,
   "id": "0a014693",
   "metadata": {},
   "outputs": [],
   "source": [
    "def stem_sentence(sentence):\n",
    "    sentence = sentence.strip()\n",
    "    if len(sentence) == 0:\n",
    "        return \"\"\n",
    "    zemberek_sentence = JString(sentence)\n",
    "    sentences = zemberek.analyzeAndDisambiguate(zemberek_sentence).bestAnalysis()\n",
    "    stem_words = [str(kelime.getStem()) for kelime in sentences]\n",
    "    return \" \".join(stem_words)\n"
   ]
  },
  {
   "cell_type": "code",
   "execution_count": 68,
   "id": "9b591b83",
   "metadata": {},
   "outputs": [],
   "source": [
    "ornek= pd.DataFrame({\n",
    "    \"a\" : [\"ürün yeni elimize geçti fiyata göre iyi cihaz test ediyoruz güzel cikarsa \" + \n",
    "           \"devam içinden kılıf ve ekran koruyucu çıkmadı hiç iyi olmadı eksi bir taraf satıcı iyi sorun yok inşallah\",\n",
    "           \n",
    "          \"1 ay araştırdım özellikleri itibariyle en avantajlı cihazdı. Ayrıca hediye çantasi gayet güzel .\" + \n",
    "           \"Kargo iyi paketlemesi başarılı. Teşekkürler\", \n",
    "           \n",
    "          \"yanin da niye bileklik yok ürünü iyade yapacam bişey satiyorsaniz insan gibi satin yaninda bileklik \"\n",
    "           +\"var diye sipariş verdim\"] \n",
    "})"
   ]
  },
  {
   "cell_type": "code",
   "execution_count": 69,
   "id": "70f6df2b",
   "metadata": {
    "scrolled": true
   },
   "outputs": [
    {
     "name": "stderr",
     "output_type": "stream",
     "text": [
      "C:\\Users\\furka\\AppData\\Local\\Temp\\ipykernel_15880\\2901073895.py:4: FutureWarning: The default value of regex will change from True to False in a future version.\n",
      "  dataSet[column_name]=dataSet[column_name].str.replace('[^\\w\\s]','')\n",
      "C:\\Users\\furka\\AppData\\Local\\Temp\\ipykernel_15880\\2901073895.py:5: FutureWarning: The default value of regex will change from True to False in a future version.\n",
      "  dataSet[column_name]=dataSet[column_name].str.replace('\\d','')\n"
     ]
    }
   ],
   "source": [
    "ornek_pp = pre_process(ornek, 'a')"
   ]
  },
  {
   "cell_type": "code",
   "execution_count": 75,
   "id": "d0424202",
   "metadata": {},
   "outputs": [
    {
     "data": {
      "text/plain": [
       "'ay araştırdım özellikleri avantajlı cihazdı hediye çantasi gayet güzel kargo iyi paketlemesi başarılı teşekkürler'"
      ]
     },
     "execution_count": 75,
     "metadata": {},
     "output_type": "execute_result"
    }
   ],
   "source": [
    "ornek_pp['a'][1]"
   ]
  },
  {
   "cell_type": "code",
   "execution_count": 71,
   "id": "bc0dc659",
   "metadata": {},
   "outputs": [
    {
     "name": "stdout",
     "output_type": "stream",
     "text": [
      "0    ürün yeni elimize geçti fiyata iyi cihaz test ...\n",
      "1    ay araştırdım özellikleri avantajlı cihazdı he...\n",
      "2    yani bileklik yok ürünü ifade yapacak birşey s...\n",
      "Name: a, dtype: object\n"
     ]
    }
   ],
   "source": [
    "ornek_spellch=ornek_pp['a'].apply(spell_check_dataframe)\n",
    "print(ornek_spellch)"
   ]
  },
  {
   "cell_type": "code",
   "execution_count": 72,
   "id": "f3dccf72",
   "metadata": {},
   "outputs": [
    {
     "data": {
      "text/plain": [
       "0    ürün yeni el geç fiyat iyi cihaz test et güzel...\n",
       "1    ay araştır özellik avantaj cihaz hediye çanta ...\n",
       "2    yani bileklik yok ürün ifade yap birşey satiyo...\n",
       "Name: a, dtype: object"
      ]
     },
     "execution_count": 72,
     "metadata": {},
     "output_type": "execute_result"
    }
   ],
   "source": [
    "ornek_lem=ornek_spellch.apply(lemmatize_sentence)\n",
    "ornek_lem"
   ]
  },
  {
   "cell_type": "code",
   "execution_count": 73,
   "id": "d408a161",
   "metadata": {},
   "outputs": [
    {
     "data": {
      "text/plain": [
       "0    ürün yeni el geç fiyat iyi cihaz test ed güzel...\n",
       "1    ay araştır özellik avantaj cihaz hediye çanta ...\n",
       "2    yani bileklik yok ürün ifade yap birşey satiyo...\n",
       "Name: a, dtype: object"
      ]
     },
     "execution_count": 73,
     "metadata": {},
     "output_type": "execute_result"
    }
   ],
   "source": [
    "ornek_stem=ornek_spellch.apply(stem_sentence)\n",
    "ornek_stem"
   ]
  },
  {
   "cell_type": "code",
   "execution_count": 23,
   "id": "142426da",
   "metadata": {},
   "outputs": [
    {
     "name": "stderr",
     "output_type": "stream",
     "text": [
      "C:\\Users\\furka\\AppData\\Local\\Temp\\ipykernel_15840\\2901073895.py:4: FutureWarning: The default value of regex will change from True to False in a future version.\n",
      "  dataSet[column_name]=dataSet[column_name].str.replace('[^\\w\\s]','')\n",
      "C:\\Users\\furka\\AppData\\Local\\Temp\\ipykernel_15840\\2901073895.py:5: FutureWarning: The default value of regex will change from True to False in a future version.\n",
      "  dataSet[column_name]=dataSet[column_name].str.replace('\\d','')\n"
     ]
    }
   ],
   "source": [
    "data = pre_process(data, 'Gorus')\n",
    "data_ls = data[\"Gorus\"].apply(spell_check_dataframe).apply(lemmatize_sentence)\n",
    "data_ss = data[\"Gorus\"].apply(spell_check_dataframe).apply(stem_sentence)\n",
    "data_l = data[\"Gorus\"].apply(lemmatize_sentence)\n",
    "data_s = data[\"Gorus\"].apply(stem_sentence)"
   ]
  },
  {
   "cell_type": "code",
   "execution_count": 24,
   "id": "5ae4e681",
   "metadata": {},
   "outputs": [],
   "source": [
    "from sklearn.model_selection import train_test_split\n",
    "from sklearn.metrics import confusion_matrix, accuracy_score, classification_report\n",
    "from sklearn.feature_extraction.text import TfidfVectorizer"
   ]
  },
  {
   "cell_type": "code",
   "execution_count": 25,
   "id": "86466c0a",
   "metadata": {},
   "outputs": [],
   "source": [
    "import matplotlib.pyplot as plt\n",
    "import seaborn as sns\n",
    "import matplotlib.pyplot as plt\n",
    "from sklearn.metrics import plot_confusion_matrix"
   ]
  },
  {
   "cell_type": "code",
   "execution_count": 161,
   "id": "b1f1152d",
   "metadata": {},
   "outputs": [],
   "source": [
    "X_train, X_test, y_train, y_test = train_test_split(data_s, data[\"Durum\"], test_size = 0.2,random_state=42)"
   ]
  },
  {
   "cell_type": "code",
   "execution_count": 162,
   "id": "5d3fff15",
   "metadata": {},
   "outputs": [],
   "source": [
    "vectorizer = TfidfVectorizer()\n",
    "X_train_tfidf = vectorizer.fit_transform(X_train)\n",
    "X_test_tfidf = vectorizer.transform(X_test)"
   ]
  },
  {
   "cell_type": "markdown",
   "id": "df33d44a",
   "metadata": {},
   "source": [
    "# Naive Bayes"
   ]
  },
  {
   "cell_type": "code",
   "execution_count": 163,
   "id": "573f45f0",
   "metadata": {},
   "outputs": [],
   "source": [
    "from sklearn.naive_bayes import MultinomialNB"
   ]
  },
  {
   "cell_type": "code",
   "execution_count": 164,
   "id": "711d7a38",
   "metadata": {},
   "outputs": [],
   "source": [
    "mnb=MultinomialNB()"
   ]
  },
  {
   "cell_type": "code",
   "execution_count": 165,
   "id": "267aca7c",
   "metadata": {},
   "outputs": [],
   "source": [
    "model_mnb = mnb.fit(X_train_tfidf,y_train)"
   ]
  },
  {
   "cell_type": "code",
   "execution_count": 166,
   "id": "8d8e057a",
   "metadata": {},
   "outputs": [],
   "source": [
    "y_pred_mbn=model_mnb.predict(X_test_tfidf)"
   ]
  },
  {
   "cell_type": "code",
   "execution_count": 167,
   "id": "7d4158b0",
   "metadata": {},
   "outputs": [],
   "source": [
    "accuracy_mnb=accuracy_score(y_test,y_pred_mbn)\n",
    "cm_mnb=confusion_matrix(y_test,y_pred_mbn)\n",
    "cr_mnb=classification_report(y_test,y_pred_mbn)"
   ]
  },
  {
   "cell_type": "markdown",
   "id": "51b8d84f",
   "metadata": {},
   "source": [
    "# SVM"
   ]
  },
  {
   "cell_type": "code",
   "execution_count": 175,
   "id": "34ba2b59",
   "metadata": {},
   "outputs": [],
   "source": [
    "from sklearn.svm import SVC "
   ]
  },
  {
   "cell_type": "code",
   "execution_count": 176,
   "id": "de0340d6",
   "metadata": {},
   "outputs": [
    {
     "data": {
      "text/plain": [
       "SVC(kernel='poly')"
      ]
     },
     "execution_count": 176,
     "metadata": {},
     "output_type": "execute_result"
    }
   ],
   "source": [
    "svm_linear = SVC(kernel='linear')\n",
    "svm_linear.fit(X_train_tfidf, y_train)\n",
    "\n",
    "svm_rbf = SVC(kernel='rbf')\n",
    "svm_rbf.fit(X_train_tfidf, y_train)\n",
    "\n",
    "svm_poly = SVC(kernel='poly', degree=3)\n",
    "svm_poly.fit(X_train_tfidf, y_train)"
   ]
  },
  {
   "cell_type": "code",
   "execution_count": 177,
   "id": "8622deb3",
   "metadata": {},
   "outputs": [
    {
     "name": "stdout",
     "output_type": "stream",
     "text": [
      "Linear: 0.8775029446407538\n",
      "RBF: 0.8845700824499411\n",
      "Poly : 0.823321554770318\n"
     ]
    }
   ],
   "source": [
    "y_pred_linear = svm_linear.predict(X_test_tfidf)\n",
    "acc_linear = accuracy_score(y_test, y_pred_linear)\n",
    "print(\"Linear:\", acc_linear)\n",
    "\n",
    "y_pred_rbf = svm_rbf.predict(X_test_tfidf)\n",
    "acc_rbf = accuracy_score(y_test, y_pred_rbf)\n",
    "print(\"RBF:\", acc_rbf)\n",
    "\n",
    "y_pred_poly = svm_poly.predict(X_test_tfidf)\n",
    "acc_poly = accuracy_score(y_test, y_pred_poly)\n",
    "print(\"Poly :\", acc_poly)"
   ]
  },
  {
   "cell_type": "code",
   "execution_count": 178,
   "id": "52dd0bc1",
   "metadata": {},
   "outputs": [],
   "source": [
    "svm = SVC(kernel='rbf')"
   ]
  },
  {
   "cell_type": "code",
   "execution_count": 179,
   "id": "d5a2eb23",
   "metadata": {},
   "outputs": [],
   "source": [
    "model_svm=svm.fit(X_train_tfidf, y_train)"
   ]
  },
  {
   "cell_type": "code",
   "execution_count": 180,
   "id": "00955691",
   "metadata": {},
   "outputs": [],
   "source": [
    "y_pred_svm = svm.predict(X_test_tfidf)"
   ]
  },
  {
   "cell_type": "code",
   "execution_count": 181,
   "id": "5110f842",
   "metadata": {},
   "outputs": [],
   "source": [
    "accuracy_svm=accuracy_score(y_test, y_pred_svm)\n",
    "cm_svm=confusion_matrix(y_test,y_pred_svm)\n",
    "cr_svm=classification_report(y_test,y_pred_svm)"
   ]
  },
  {
   "cell_type": "markdown",
   "id": "ef6505a9",
   "metadata": {},
   "source": [
    "# RANDOM FOREST"
   ]
  },
  {
   "cell_type": "code",
   "execution_count": 182,
   "id": "5510bb10",
   "metadata": {},
   "outputs": [],
   "source": [
    "from sklearn.ensemble import RandomForestClassifier"
   ]
  },
  {
   "cell_type": "code",
   "execution_count": 183,
   "id": "c26b3883",
   "metadata": {},
   "outputs": [],
   "source": [
    "rfc = RandomForestClassifier(n_estimators=1000, random_state=42)"
   ]
  },
  {
   "cell_type": "code",
   "execution_count": 184,
   "id": "1225c821",
   "metadata": {},
   "outputs": [],
   "source": [
    "model_rfc=rfc.fit(X_train_tfidf, y_train)"
   ]
  },
  {
   "cell_type": "code",
   "execution_count": 185,
   "id": "706cb311",
   "metadata": {},
   "outputs": [],
   "source": [
    "y_pred_rfc = rfc.predict(X_test_tfidf)"
   ]
  },
  {
   "cell_type": "code",
   "execution_count": 186,
   "id": "25ddc466",
   "metadata": {},
   "outputs": [],
   "source": [
    "accuracy_rfc=accuracy_score(y_test, y_pred_rfc)\n",
    "cm_rfc=confusion_matrix(y_test,y_pred_rfc)\n",
    "cr_rfc=classification_report(y_test,y_pred_rfc)"
   ]
  },
  {
   "cell_type": "markdown",
   "id": "bb57d06e",
   "metadata": {},
   "source": [
    "# LOGISTIC REGRESSION"
   ]
  },
  {
   "cell_type": "code",
   "execution_count": 187,
   "id": "46f771d9",
   "metadata": {},
   "outputs": [],
   "source": [
    "from sklearn.linear_model import LogisticRegression"
   ]
  },
  {
   "cell_type": "code",
   "execution_count": 188,
   "id": "9e918d32",
   "metadata": {},
   "outputs": [],
   "source": [
    "lr = LogisticRegression()"
   ]
  },
  {
   "cell_type": "code",
   "execution_count": 189,
   "id": "4277365f",
   "metadata": {},
   "outputs": [],
   "source": [
    "model_lr=lr.fit(X_train_tfidf, y_train)"
   ]
  },
  {
   "cell_type": "code",
   "execution_count": 190,
   "id": "c66a044f",
   "metadata": {},
   "outputs": [],
   "source": [
    "y_pred_lr = lr.predict(X_test_tfidf)"
   ]
  },
  {
   "cell_type": "code",
   "execution_count": 191,
   "id": "9721fd7a",
   "metadata": {},
   "outputs": [],
   "source": [
    "accuracy_lr=accuracy_score(y_test, y_pred_lr)\n",
    "cm_lr=confusion_matrix(y_test,y_pred_lr)\n",
    "cr_lr=classification_report(y_test,y_pred_lr)"
   ]
  },
  {
   "cell_type": "markdown",
   "id": "96366fc7",
   "metadata": {},
   "source": [
    "# LSTM"
   ]
  },
  {
   "cell_type": "code",
   "execution_count": 192,
   "id": "e0066595",
   "metadata": {},
   "outputs": [],
   "source": [
    "from tensorflow.keras.preprocessing.text import Tokenizer\n",
    "from tensorflow.keras.preprocessing import sequence\n",
    "from tensorflow.keras.models import Sequential\n",
    "from tensorflow.keras.layers import Dense, Embedding, LSTM, Dropout"
   ]
  },
  {
   "cell_type": "code",
   "execution_count": 193,
   "id": "aa76e06a",
   "metadata": {},
   "outputs": [],
   "source": [
    "max_features = 10000\n",
    "max_len = 200\n",
    "tokenizer = Tokenizer(num_words=max_features, split=' ')\n",
    "tokenizer.fit_on_texts(X_train)"
   ]
  },
  {
   "cell_type": "code",
   "execution_count": 194,
   "id": "2f8b0934",
   "metadata": {},
   "outputs": [],
   "source": [
    "X_train_lstm = tokenizer.texts_to_sequences(X_train)\n",
    "X_train_lstm = sequence.pad_sequences(X_train_lstm, maxlen=max_len)\n",
    "X_test_lstm = tokenizer.texts_to_sequences(X_test)\n",
    "X_test_lstm = sequence.pad_sequences(X_test_lstm, maxlen=max_len)"
   ]
  },
  {
   "cell_type": "code",
   "execution_count": 195,
   "id": "12ba657d",
   "metadata": {},
   "outputs": [],
   "source": [
    "model = Sequential()\n",
    "model.add(Embedding(max_features, 128, input_length=max_len))\n",
    "model.add(LSTM(196, dropout=0.3, recurrent_dropout=0.3))\n",
    "model.add(Dense(1, activation='sigmoid'))"
   ]
  },
  {
   "cell_type": "code",
   "execution_count": 196,
   "id": "a8cadc9d",
   "metadata": {},
   "outputs": [],
   "source": [
    "model.compile(loss='binary_crossentropy', optimizer='Rmsprop', metrics=['accuracy'])"
   ]
  },
  {
   "cell_type": "code",
   "execution_count": 197,
   "id": "38aa7a67",
   "metadata": {},
   "outputs": [
    {
     "name": "stdout",
     "output_type": "stream",
     "text": [
      "Epoch 1/5\n",
      "213/213 [==============================] - 156s 724ms/step - loss: 0.4895 - accuracy: 0.7659 - val_loss: 0.3707 - val_accuracy: 0.8298\n",
      "Epoch 2/5\n",
      "213/213 [==============================] - 152s 713ms/step - loss: 0.3261 - accuracy: 0.8763 - val_loss: 0.3433 - val_accuracy: 0.8534\n",
      "Epoch 3/5\n",
      "213/213 [==============================] - 158s 741ms/step - loss: 0.2892 - accuracy: 0.8906 - val_loss: 0.3173 - val_accuracy: 0.8657\n",
      "Epoch 4/5\n",
      "213/213 [==============================] - 157s 736ms/step - loss: 0.2480 - accuracy: 0.9086 - val_loss: 0.3318 - val_accuracy: 0.8640\n",
      "Epoch 5/5\n",
      "213/213 [==============================] - 156s 732ms/step - loss: 0.2230 - accuracy: 0.9197 - val_loss: 0.3332 - val_accuracy: 0.8610\n"
     ]
    },
    {
     "data": {
      "text/plain": [
       "<keras.callbacks.History at 0x2192a2baf70>"
      ]
     },
     "execution_count": 197,
     "metadata": {},
     "output_type": "execute_result"
    }
   ],
   "source": [
    "model.fit(X_train_lstm, y_train, batch_size=32, epochs=5, validation_data=(X_test_lstm, y_test), validation_split=0.1)"
   ]
  },
  {
   "cell_type": "code",
   "execution_count": 198,
   "id": "258b4c4a",
   "metadata": {},
   "outputs": [
    {
     "name": "stdout",
     "output_type": "stream",
     "text": [
      "54/54 [==============================] - 11s 204ms/step - loss: 0.3332 - accuracy: 0.8610\n"
     ]
    }
   ],
   "source": [
    "_, accuracy_lstm = model.evaluate(X_test_lstm, y_test, batch_size=32)"
   ]
  },
  {
   "cell_type": "code",
   "execution_count": 199,
   "id": "1b5f7b10",
   "metadata": {},
   "outputs": [
    {
     "name": "stdout",
     "output_type": "stream",
     "text": [
      "54/54 [==============================] - 11s 193ms/step\n"
     ]
    }
   ],
   "source": [
    "y_pred_lstm = model.predict(X_test_lstm)\n",
    "y_pred_lstm = np.round(y_pred_lstm)"
   ]
  },
  {
   "cell_type": "code",
   "execution_count": 200,
   "id": "97f3a7a7",
   "metadata": {},
   "outputs": [],
   "source": [
    "cr_lstm = classification_report(y_test, y_pred_lstm)\n",
    "cm_lstm=confusion_matrix(y_test,y_pred_lstm)"
   ]
  },
  {
   "cell_type": "markdown",
   "id": "26217f56",
   "metadata": {},
   "source": [
    "# SONUCLAR"
   ]
  },
  {
   "cell_type": "code",
   "execution_count": 201,
   "id": "23c5a742",
   "metadata": {},
   "outputs": [
    {
     "name": "stdout",
     "output_type": "stream",
     "text": [
      "\t \t Stemming\n",
      "Accuracy: 0.8733804475853946\n",
      "\n",
      "              precision    recall  f1-score   support\n",
      "\n",
      "           0       0.88      0.86      0.87       843\n",
      "           1       0.86      0.89      0.88       855\n",
      "\n",
      "    accuracy                           0.87      1698\n",
      "   macro avg       0.87      0.87      0.87      1698\n",
      "weighted avg       0.87      0.87      0.87      1698\n",
      "\n"
     ]
    },
    {
     "data": {
      "image/png": "[encoded data removed]",
      "text/plain": [
       "<Figure size 640x480 with 2 Axes>"
      ]
     },
     "metadata": {},
     "output_type": "display_data"
    }
   ],
   "source": [
    "print(\"\\t \\t Stemming\")\n",
    "#print(\"Naive Bayes - SS\")\n",
    "print(\"Accuracy: \"+str(accuracy_mnb))\n",
    "print()\n",
    "print(str(cr_mnb))\n",
    "sns.heatmap(cm_mnb, annot=True, fmt=\"d\",cmap=\"Greens\")\n",
    "plt.title(\"Confusion Matrix\")\n",
    "plt.xlabel(\"Predicted Label\")\n",
    "plt.ylabel(\"True Label\")\n",
    "plt.show()"
   ]
  },
  {
   "cell_type": "code",
   "execution_count": 203,
   "id": "1e8c8549",
   "metadata": {},
   "outputs": [
    {
     "name": "stdout",
     "output_type": "stream",
     "text": [
      "\t \t Stemming\n",
      "Accuracy: 0.8845700824499411\n",
      "\n",
      "              precision    recall  f1-score   support\n",
      "\n",
      "           0       0.87      0.90      0.89       843\n",
      "           1       0.90      0.87      0.88       855\n",
      "\n",
      "    accuracy                           0.88      1698\n",
      "   macro avg       0.88      0.88      0.88      1698\n",
      "weighted avg       0.88      0.88      0.88      1698\n",
      "\n"
     ]
    },
    {
     "data": {
      "image/png": "[encoded data removed]",
      "text/plain": [
       "<Figure size 640x480 with 2 Axes>"
      ]
     },
     "metadata": {},
     "output_type": "display_data"
    }
   ],
   "source": [
    "print(\"\\t \\t Stemming\")\n",
    "#print(\"SVM - SS\")\n",
    "print(\"Accuracy: \"+str(accuracy_svm))\n",
    "print()\n",
    "print(str(cr_svm))\n",
    "sns.heatmap(cm_svm, annot=True, fmt=\"d\",cmap=\"YlGn\")\n",
    "plt.title(\"Confusion Matrix\")\n",
    "plt.xlabel(\"Predicted Label\")\n",
    "plt.ylabel(\"True Label\")\n",
    "plt.show()"
   ]
  },
  {
   "cell_type": "code",
   "execution_count": 204,
   "id": "c5997213",
   "metadata": {},
   "outputs": [
    {
     "name": "stdout",
     "output_type": "stream",
     "text": [
      "\t \t Stemming\n",
      "Accuracy: 0.8616018845700825\n",
      "\n",
      "              precision    recall  f1-score   support\n",
      "\n",
      "           0       0.86      0.86      0.86       843\n",
      "           1       0.86      0.86      0.86       855\n",
      "\n",
      "    accuracy                           0.86      1698\n",
      "   macro avg       0.86      0.86      0.86      1698\n",
      "weighted avg       0.86      0.86      0.86      1698\n",
      "\n"
     ]
    },
    {
     "data": {
      "image/png": "[encoded data removed]",
      "text/plain": [
       "<Figure size 640x480 with 2 Axes>"
      ]
     },
     "metadata": {},
     "output_type": "display_data"
    }
   ],
   "source": [
    "print(\"\\t \\t Stemming\")\n",
    "#print(\"Random Forest - SS\")\n",
    "print(\"Accuracy: \"+str(accuracy_rfc))\n",
    "print()\n",
    "print(str(cr_rfc))\n",
    "sns.heatmap(cm_rfc, annot=True, fmt=\"d\",cmap=\"Blues\")\n",
    "plt.title(\"Confusion Matrix\")\n",
    "plt.xlabel(\"Predicted Label\")\n",
    "plt.ylabel(\"True Label\")\n",
    "plt.show()"
   ]
  },
  {
   "cell_type": "code",
   "execution_count": 205,
   "id": "e0065639",
   "metadata": {
    "scrolled": false
   },
   "outputs": [
    {
     "name": "stdout",
     "output_type": "stream",
     "text": [
      "\t \t Stemming\n",
      "Accuracy: 0.8745583038869258\n",
      "\n",
      "              precision    recall  f1-score   support\n",
      "\n",
      "           0       0.86      0.89      0.88       843\n",
      "           1       0.89      0.85      0.87       855\n",
      "\n",
      "    accuracy                           0.87      1698\n",
      "   macro avg       0.88      0.87      0.87      1698\n",
      "weighted avg       0.88      0.87      0.87      1698\n",
      "\n"
     ]
    },
    {
     "data": {
      "image/png": "[encoded data removed]",
      "text/plain": [
       "<Figure size 640x480 with 2 Axes>"
      ]
     },
     "metadata": {},
     "output_type": "display_data"
    }
   ],
   "source": [
    "print(\"\\t \\t Stemming\")\n",
    "#print(\"Logistic Regression - SS\")\n",
    "print(\"Accuracy: \"+str(accuracy_lr))\n",
    "print()\n",
    "print(str(cr_lr))\n",
    "sns.heatmap(cm_lr, annot=True, fmt=\"d\",cmap=\"Oranges\")\n",
    "plt.title(\"Confusion Matrix\")\n",
    "plt.xlabel(\"Predicted Label\")\n",
    "plt.ylabel(\"True Label\")\n",
    "plt.show()"
   ]
  },
  {
   "cell_type": "code",
   "execution_count": 206,
   "id": "7e5b5c2b",
   "metadata": {},
   "outputs": [
    {
     "name": "stdout",
     "output_type": "stream",
     "text": [
      "\t \t Stemming\n",
      "Accuracy: 0.8610129356384277\n",
      "\n",
      "              precision    recall  f1-score   support\n",
      "\n",
      "           0       0.89      0.82      0.85       843\n",
      "           1       0.83      0.91      0.87       855\n",
      "\n",
      "    accuracy                           0.86      1698\n",
      "   macro avg       0.86      0.86      0.86      1698\n",
      "weighted avg       0.86      0.86      0.86      1698\n",
      "\n"
     ]
    },
    {
     "data": {
      "image/png": "[encoded data removed]",
      "text/plain": [
       "<Figure size 640x480 with 2 Axes>"
      ]
     },
     "metadata": {},
     "output_type": "display_data"
    }
   ],
   "source": [
    "print(\"\\t \\t Stemming\")\n",
    "#print(\"LSTM - SS\")\n",
    "print(\"Accuracy: \"+str(accuracy_lstm))\n",
    "print()\n",
    "print(str(cr_lstm))\n",
    "sns.heatmap(cm_lstm, annot=True, fmt=\"d\",cmap=\"YlGnBu\")\n",
    "plt.title(\"Confusion Matrix\")\n",
    "plt.xlabel(\"Predicted Label\")\n",
    "plt.ylabel(\"True Label\")\n",
    "plt.show()"
   ]
  }
 ],
 "metadata": {
  "kernelspec": {
   "display_name": "Python 3 (ipykernel)",
   "language": "python",
   "name": "python3"
  },
  "language_info": {
   "codemirror_mode": {
    "name": "ipython",
    "version": 3
   },
   "file_extension": ".py",
   "mimetype": "text/x-python",
   "name": "python",
   "nbconvert_exporter": "python",
   "pygments_lexer": "ipython3",
   "version": "3.9.13"
  }
 },
 "nbformat": 4,
 "nbformat_minor": 5
}
